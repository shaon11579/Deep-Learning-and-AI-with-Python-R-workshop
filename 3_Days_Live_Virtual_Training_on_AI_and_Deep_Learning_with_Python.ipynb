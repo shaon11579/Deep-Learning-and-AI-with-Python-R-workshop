{
  "nbformat": 4,
  "nbformat_minor": 0,
  "metadata": {
    "colab": {
      "name": " 3 Days Live Virtual Training on AI and Deep Learning with Python.ipynb",
      "provenance": [],
      "authorship_tag": "ABX9TyPe96IJHc5sL/lu6ywS4UCC",
      "include_colab_link": true
    },
    "kernelspec": {
      "name": "python3",
      "display_name": "Python 3"
    },
    "language_info": {
      "name": "python"
    }
  },
  "cells": [
    {
      "cell_type": "markdown",
      "metadata": {
        "id": "view-in-github",
        "colab_type": "text"
      },
      "source": [
        "<a href=\"https://colab.research.google.com/github/shaon11579/Deep-Learning-and-AI-with-Python-R-workshop/blob/main/3_Days_Live_Virtual_Training_on_AI_and_Deep_Learning_with_Python.ipynb\" target=\"_parent\"><img src=\"https://colab.research.google.com/assets/colab-badge.svg\" alt=\"Open In Colab\"/></a>"
      ]
    },
    {
      "cell_type": "code",
      "metadata": {
        "id": "gGch_XCn3afb"
      },
      "source": [
        ""
      ],
      "execution_count": null,
      "outputs": []
    },
    {
      "cell_type": "markdown",
      "metadata": {
        "id": "Y3MJY0jh3bN4"
      },
      "source": [
        " # 3days worksshop materials link\n",
        "\n",
        "Simpliv LLC would like to invite you to view the recorded training session as mentioned below:\n",
        " \n",
        "Topic: 3 Days Live Virtual Training on AI and Deep Learning with Python\n",
        "Date: Aug 4th – 6th , 2021\n",
        "Reference Materials: Please find below.\n",
        "Link: https://github.com/dsrahul08/DeepLearning\n",
        " \n",
        "Recorded Access:\n",
        "- Day 1 link: https://globalcompliancepanel.webex.com/globalcompliancepanel/lsr.php?RCID=47a52276bf52406ba851b1d1e413e067\n",
        "Password: UakYfHa2\n",
        " \n",
        "Recorded Access:\n",
        "- Day 2 link: https://globalcompliancepanel.webex.com/globalcompliancepanel/lsr.php?RCID=238384b2defb437295901f4756f24fa2\n",
        "Password: KwupNd9b\n",
        " \n",
        "Recorded Access:\n",
        "- Day 3 link: https://globalcompliancepanel.webex.com/globalcompliancepanel/lsr.php?RCID=91b9668a17114cbc8567510e6d607ae9\n",
        "Password: MrE5ZH8u\n",
        " \n",
        "PS: :*If the webpage doesn’t open upon clicking the above-mentioned link, please copy the link and paste it in the address bar of your browser.\n",
        " \n",
        "We recommend the use of a headset or desktop speakers to derive maximum benefit from this webinar recording;\n",
        " \n",
        "The recording has been provided in a WebEx proprietary format and would need a WebEx proprietary media player for viewing it. If you do not happen to have this player, WebEx will allow you to download the WebEx player software when you try accessing the recording of the Webinar.\n"
      ]
    },
    {
      "cell_type": "markdown",
      "metadata": {
        "id": "sriQ3Lid3pgS"
      },
      "source": [
        ""
      ]
    }
  ]
}